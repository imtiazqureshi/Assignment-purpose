{
  "nbformat": 4,
  "nbformat_minor": 0,
  "metadata": {
    "colab": {
      "provenance": [],
      "authorship_tag": "ABX9TyOfMVKaoZv4H2U+n2PnrOJX",
      "include_colab_link": true
    },
    "kernelspec": {
      "name": "python3",
      "display_name": "Python 3"
    },
    "language_info": {
      "name": "python"
    }
  },
  "cells": [
    {
      "cell_type": "markdown",
      "metadata": {
        "id": "view-in-github",
        "colab_type": "text"
      },
      "source": [
        "<a href=\"https://colab.research.google.com/github/imtiazqureshi/Assignment-purpose/blob/main/Assignment.ipynb\" target=\"_parent\"><img src=\"https://colab.research.google.com/assets/colab-badge.svg\" alt=\"Open In Colab\"/></a>"
      ]
    },
    {
      "cell_type": "code",
      "source": [
        "!pip install requests"
      ],
      "metadata": {
        "id": "8rSUWsZamq9j",
        "colab": {
          "base_uri": "https://localhost:8080/"
        },
        "outputId": "2f805455-49f7-43e8-e12f-5d481a2f5f01"
      },
      "execution_count": 2,
      "outputs": [
        {
          "output_type": "stream",
          "name": "stdout",
          "text": [
            "Requirement already satisfied: requests in /usr/local/lib/python3.10/dist-packages (2.31.0)\n",
            "Requirement already satisfied: charset-normalizer<4,>=2 in /usr/local/lib/python3.10/dist-packages (from requests) (3.3.0)\n",
            "Requirement already satisfied: idna<4,>=2.5 in /usr/local/lib/python3.10/dist-packages (from requests) (3.4)\n",
            "Requirement already satisfied: urllib3<3,>=1.21.1 in /usr/local/lib/python3.10/dist-packages (from requests) (2.0.6)\n",
            "Requirement already satisfied: certifi>=2017.4.17 in /usr/local/lib/python3.10/dist-packages (from requests) (2023.7.22)\n"
          ]
        }
      ]
    },
    {
      "cell_type": "code",
      "source": [
        "import json\n",
        "import requests"
      ],
      "metadata": {
        "id": "e1-A4KJa4hKQ"
      },
      "execution_count": 3,
      "outputs": []
    },
    {
      "cell_type": "code",
      "source": [
        "input_image = \"/content/Typing Certificate.jpg\"\n",
        "api_endpoint = 'http://91.203.132.119:8000/ocr'\n",
        "# Read image file\n",
        "with open(input_image, 'rb') as image_file:\n",
        "    # Make OCR API request\n",
        "    response = requests.post(api_endpoint, files={'file': image_file})\n",
        "\n",
        "# Check if the request was successful (status code 200)\n",
        "if response.status_code == 200:\n",
        "    # OCR response\n",
        "    ocr_result = response.json()\n",
        "\n",
        "    # Save OCR result as JSON\n",
        "    output_filename = input_image.replace('.jpg', '.json')\n",
        "    with open(output_filename, 'w') as json_file:\n",
        "        json.dump(ocr_result, json_file)\n",
        "\n",
        "    print(f'OCR result saved as {output_filename}')\n",
        "else:\n",
        "    print(f'Error in OCR API request. Status code: {response.status_code}')"
      ],
      "metadata": {
        "id": "V5fKuVZz6Ur6"
      },
      "execution_count": null,
      "outputs": []
    }
  ]
}